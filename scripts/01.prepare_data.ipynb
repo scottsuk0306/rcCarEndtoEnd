{
 "cells": [
  {
   "cell_type": "markdown",
   "metadata": {
    "id": "lPyr7tVtWbj4"
   },
   "source": [
    "Three seperate metadata files merged into one csv file using pandas dataframe.\n",
    "\n",
    "Preprocess image data"
   ]
  },
  {
   "cell_type": "code",
   "execution_count": 14,
   "metadata": {
    "executionInfo": {
     "elapsed": 900,
     "status": "ok",
     "timestamp": 1611809160850,
     "user": {
      "displayName": "석주영",
      "photoUrl": "",
      "userId": "03903975746484418217"
     },
     "user_tz": -540
    },
    "id": "RhnJHpXJWPy3"
   },
   "outputs": [],
   "source": [
    "import pandas as pd\n",
    "import os\n",
    "import glob"
   ]
  },
  {
   "cell_type": "code",
   "execution_count": 15,
   "metadata": {},
   "outputs": [
    {
     "name": "stdout",
     "output_type": "stream",
     "text": [
      "C:\\Users\\82108\\Documents\\rcCarEndtoEnd\\data01-26-test2\n"
     ]
    }
   ],
   "source": [
    "path = os.getcwd()\n",
    "dataset_path = path + '\\\\data01-26-test2'\n",
    "print(dataset_path)"
   ]
  },
  {
   "cell_type": "code",
   "execution_count": 16,
   "metadata": {},
   "outputs": [],
   "source": [
    "for file in glob.glob(dataset_path + \"\\\\\" + \"*.csv\"):\n",
    "    # There should be only one CSV file in the given directory\n",
    "    if file.split('\\\\')[-1] == \"metadata.csv\":\n",
    "        df_image = pd.read_csv(file)\n",
    "    else:\n",
    "        df_steer = pd.read_csv(file)"
   ]
  },
  {
   "cell_type": "code",
   "execution_count": 17,
   "metadata": {
    "colab": {
     "base_uri": "https://localhost:8080/",
     "height": 204
    },
    "executionInfo": {
     "elapsed": 850,
     "status": "ok",
     "timestamp": 1611809163956,
     "user": {
      "displayName": "석주영",
      "photoUrl": "",
      "userId": "03903975746484418217"
     },
     "user_tz": -540
    },
    "id": "XTHzG5GbXf0i",
    "outputId": "c3139d98-45fd-4bca-b1a4-834d47332240"
   },
   "outputs": [
    {
     "data": {
      "text/html": [
       "<div>\n",
       "<style scoped>\n",
       "    .dataframe tbody tr th:only-of-type {\n",
       "        vertical-align: middle;\n",
       "    }\n",
       "\n",
       "    .dataframe tbody tr th {\n",
       "        vertical-align: top;\n",
       "    }\n",
       "\n",
       "    .dataframe thead th {\n",
       "        text-align: right;\n",
       "    }\n",
       "</style>\n",
       "<table border=\"1\" class=\"dataframe\">\n",
       "  <thead>\n",
       "    <tr style=\"text-align: right;\">\n",
       "      <th></th>\n",
       "      <th>steer</th>\n",
       "    </tr>\n",
       "  </thead>\n",
       "  <tbody>\n",
       "    <tr>\n",
       "      <td>0</td>\n",
       "      <td>1540</td>\n",
       "    </tr>\n",
       "    <tr>\n",
       "      <td>1</td>\n",
       "      <td>1540</td>\n",
       "    </tr>\n",
       "    <tr>\n",
       "      <td>2</td>\n",
       "      <td>1536</td>\n",
       "    </tr>\n",
       "    <tr>\n",
       "      <td>3</td>\n",
       "      <td>1540</td>\n",
       "    </tr>\n",
       "    <tr>\n",
       "      <td>4</td>\n",
       "      <td>1536</td>\n",
       "    </tr>\n",
       "  </tbody>\n",
       "</table>\n",
       "</div>"
      ],
      "text/plain": [
       "   steer\n",
       "0   1540\n",
       "1   1540\n",
       "2   1536\n",
       "3   1540\n",
       "4   1536"
      ]
     },
     "execution_count": 17,
     "metadata": {},
     "output_type": "execute_result"
    }
   ],
   "source": [
    "df_steer.head()"
   ]
  },
  {
   "cell_type": "code",
   "execution_count": 18,
   "metadata": {
    "colab": {
     "base_uri": "https://localhost:8080/"
    },
    "executionInfo": {
     "elapsed": 560,
     "status": "ok",
     "timestamp": 1611809165283,
     "user": {
      "displayName": "석주영",
      "photoUrl": "",
      "userId": "03903975746484418217"
     },
     "user_tz": -540
    },
    "id": "8D1uUaHMXhGW",
    "outputId": "70830ba1-eb8a-4e48-e57c-7771973b41d6"
   },
   "outputs": [
    {
     "data": {
      "text/plain": [
       "(11860, 1)"
      ]
     },
     "execution_count": 18,
     "metadata": {},
     "output_type": "execute_result"
    }
   ],
   "source": [
    "df_steer.shape"
   ]
  },
  {
   "cell_type": "code",
   "execution_count": 19,
   "metadata": {
    "executionInfo": {
     "elapsed": 737,
     "status": "ok",
     "timestamp": 1611809198116,
     "user": {
      "displayName": "석주영",
      "photoUrl": "",
      "userId": "03903975746484418217"
     },
     "user_tz": -540
    },
    "id": "gr3-3I8tXrMR"
   },
   "outputs": [],
   "source": [
    "df = pd.concat([df_image,df_steer],axis=1,join=\"inner\")"
   ]
  },
  {
   "cell_type": "code",
   "execution_count": 20,
   "metadata": {
    "colab": {
     "base_uri": "https://localhost:8080/",
     "height": 204
    },
    "executionInfo": {
     "elapsed": 725,
     "status": "ok",
     "timestamp": 1611809199454,
     "user": {
      "displayName": "석주영",
      "photoUrl": "",
      "userId": "03903975746484418217"
     },
     "user_tz": -540
    },
    "id": "V6k8ZCOMkdXK",
    "outputId": "9420b6a7-b14a-4b3f-e9a6-e486f7f18beb"
   },
   "outputs": [
    {
     "data": {
      "text/html": [
       "<div>\n",
       "<style scoped>\n",
       "    .dataframe tbody tr th:only-of-type {\n",
       "        vertical-align: middle;\n",
       "    }\n",
       "\n",
       "    .dataframe tbody tr th {\n",
       "        vertical-align: top;\n",
       "    }\n",
       "\n",
       "    .dataframe thead th {\n",
       "        text-align: right;\n",
       "    }\n",
       "</style>\n",
       "<table border=\"1\" class=\"dataframe\">\n",
       "  <thead>\n",
       "    <tr style=\"text-align: right;\">\n",
       "      <th></th>\n",
       "      <th>time</th>\n",
       "      <th>image_name</th>\n",
       "      <th>steer</th>\n",
       "    </tr>\n",
       "  </thead>\n",
       "  <tbody>\n",
       "    <tr>\n",
       "      <td>0</td>\n",
       "      <td>1.611640e+18</td>\n",
       "      <td>frame_1611643764711043119.jpeg</td>\n",
       "      <td>1540</td>\n",
       "    </tr>\n",
       "    <tr>\n",
       "      <td>1</td>\n",
       "      <td>1.611640e+18</td>\n",
       "      <td>frame_1611643764744611740.jpeg</td>\n",
       "      <td>1540</td>\n",
       "    </tr>\n",
       "    <tr>\n",
       "      <td>2</td>\n",
       "      <td>1.611640e+18</td>\n",
       "      <td>frame_1611643764778180361.jpeg</td>\n",
       "      <td>1536</td>\n",
       "    </tr>\n",
       "    <tr>\n",
       "      <td>3</td>\n",
       "      <td>1.611640e+18</td>\n",
       "      <td>frame_1611643764811748505.jpeg</td>\n",
       "      <td>1540</td>\n",
       "    </tr>\n",
       "    <tr>\n",
       "      <td>4</td>\n",
       "      <td>1.611640e+18</td>\n",
       "      <td>frame_1611643764845316648.jpeg</td>\n",
       "      <td>1536</td>\n",
       "    </tr>\n",
       "  </tbody>\n",
       "</table>\n",
       "</div>"
      ],
      "text/plain": [
       "          time                       image_name  steer\n",
       "0  1.611640e+18  frame_1611643764711043119.jpeg   1540\n",
       "1  1.611640e+18  frame_1611643764744611740.jpeg   1540\n",
       "2  1.611640e+18  frame_1611643764778180361.jpeg   1536\n",
       "3  1.611640e+18  frame_1611643764811748505.jpeg   1540\n",
       "4  1.611640e+18  frame_1611643764845316648.jpeg   1536"
      ]
     },
     "execution_count": 20,
     "metadata": {},
     "output_type": "execute_result"
    }
   ],
   "source": [
    "df.head()"
   ]
  },
  {
   "cell_type": "code",
   "execution_count": 21,
   "metadata": {
    "executionInfo": {
     "elapsed": 1047,
     "status": "ok",
     "timestamp": 1611809256725,
     "user": {
      "displayName": "석주영",
      "photoUrl": "",
      "userId": "03903975746484418217"
     },
     "user_tz": -540
    },
    "id": "GVACKUZQYMbd"
   },
   "outputs": [],
   "source": [
    "df.to_csv(\"./dataset.csv\")"
   ]
  }
 ],
 "metadata": {
  "colab": {
   "authorship_tag": "ABX9TyN7+LX4i2Wv/BnJR0g9TxI3",
   "name": "01.prepare_data",
   "provenance": []
  },
  "kernelspec": {
   "display_name": "Python 3",
   "language": "python",
   "name": "python3"
  },
  "language_info": {
   "codemirror_mode": {
    "name": "ipython",
    "version": 3
   },
   "file_extension": ".py",
   "mimetype": "text/x-python",
   "name": "python",
   "nbconvert_exporter": "python",
   "pygments_lexer": "ipython3",
   "version": "3.7.4"
  }
 },
 "nbformat": 4,
 "nbformat_minor": 4
}
