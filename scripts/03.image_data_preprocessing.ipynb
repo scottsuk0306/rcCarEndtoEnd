{
 "cells": [
  {
   "cell_type": "code",
   "execution_count": 25,
   "metadata": {},
   "outputs": [
    {
     "name": "stdout",
     "output_type": "stream",
     "text": [
      "C:\\Users\\82108\\Documents\\rcCarEndtoEnd\\data01-26-test2\n",
      "C:\\Users\\82108\\Documents\\rcCarEndtoEnd\\data01-26-test2\\model\n"
     ]
    }
   ],
   "source": [
    "import os\n",
    "import pandas as pd\n",
    "import numpy as np\n",
    "from sklearn.utils import shuffle\n",
    "import glob\n",
    "import cv2\n",
    "\n",
    "path = os.getcwd()\n",
    "dataset_path = path + '\\\\data01-26-test2'\n",
    "\n",
    "print(dataset_path)"
   ]
  },
  {
   "cell_type": "code",
   "execution_count": 13,
   "metadata": {},
   "outputs": [],
   "source": [
    "## Tensorflow ## \n",
    "import tensorflow as tf\n",
    "from tensorflow import keras\n",
    "import keras.backend as K\n",
    "from keras.utils import to_categorical\n",
    "from keras.preprocessing import image\n",
    "from keras.preprocessing.image import ImageDataGenerator,load_img,img_to_array # Image Related"
   ]
  },
  {
   "cell_type": "code",
   "execution_count": 14,
   "metadata": {},
   "outputs": [],
   "source": [
    "datagen = ImageDataGenerator(featurewise_center=True, featurewise_std_normalization=True)"
   ]
  },
  {
   "cell_type": "code",
   "execution_count": 15,
   "metadata": {},
   "outputs": [],
   "source": [
    "def img_to_arr(p):\n",
    "    with image.load_img(p) as img:\n",
    "        img = image.img_to_array(img)\n",
    "    return img"
   ]
  },
  {
   "cell_type": "code",
   "execution_count": 18,
   "metadata": {},
   "outputs": [],
   "source": [
    "df_train = pd.read_csv(\"./train_dataset.csv\")\n",
    "X_train = np.array([img_to_arr(os.path.join(dataset_path, image_name)) for image_name in df_train['image_name'][:100]])"
   ]
  },
  {
   "cell_type": "code",
   "execution_count": 20,
   "metadata": {},
   "outputs": [
    {
     "data": {
      "text/plain": [
       "(100, 480, 640, 3)"
      ]
     },
     "execution_count": 20,
     "metadata": {},
     "output_type": "execute_result"
    }
   ],
   "source": [
    "X_train.shape"
   ]
  },
  {
   "cell_type": "code",
   "execution_count": 22,
   "metadata": {},
   "outputs": [
    {
     "name": "stdout",
     "output_type": "stream",
     "text": [
      "100.58005 64.489746\n",
      "99.713684 63.35089\n",
      "98.8247 65.15448\n"
     ]
    }
   ],
   "source": [
    "for i in range(0,3):\n",
    "    print(X_train[:,:,:,i].mean(), X_train[:,:,:,i].std())"
   ]
  },
  {
   "cell_type": "code",
   "execution_count": 24,
   "metadata": {},
   "outputs": [
    {
     "data": {
      "text/plain": [
       "(0.036151692, 0.9404019)"
      ]
     },
     "execution_count": 24,
     "metadata": {},
     "output_type": "execute_result"
    }
   ],
   "source": [
    "sample_img = img_to_arr(os.path.join(dataset_path, df_train['image_name'][0]))\n",
    "\n",
    "sample_img[:,:,0] -= 100.58\n",
    "sample_img[:,:,0] /= 64.49\n",
    "\n",
    "sample_img[:,:,1] -= 99.71\n",
    "sample_img[:,:,1] /= 63.35\n",
    "\n",
    "sample_img[:,:,2] -= 98.82\n",
    "sample_img[:,:,2] /= 65.15\n",
    "\n",
    "sample_img.mean(), sample_img.std()"
   ]
  },
  {
   "cell_type": "code",
   "execution_count": null,
   "metadata": {},
   "outputs": [],
   "source": []
  }
 ],
 "metadata": {
  "kernelspec": {
   "display_name": "Python 3",
   "language": "python",
   "name": "python3"
  },
  "language_info": {
   "codemirror_mode": {
    "name": "ipython",
    "version": 3
   },
   "file_extension": ".py",
   "mimetype": "text/x-python",
   "name": "python",
   "nbconvert_exporter": "python",
   "pygments_lexer": "ipython3",
   "version": "3.7.4"
  }
 },
 "nbformat": 4,
 "nbformat_minor": 4
}
