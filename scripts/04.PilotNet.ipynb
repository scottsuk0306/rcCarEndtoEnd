{
 "cells": [
  {
   "cell_type": "code",
   "execution_count": 1,
   "metadata": {},
   "outputs": [
    {
     "name": "stdout",
     "output_type": "stream",
     "text": [
      "C:\\Users\\82108\\Documents\\rcCarEndtoEnd\\data01-26-test2\n",
      "C:\\Users\\82108\\Documents\\rcCarEndtoEnd\\data01-26-test2\\model\n"
     ]
    }
   ],
   "source": [
    "import os\n",
    "import pandas as pd\n",
    "import numpy as np\n",
    "from sklearn.utils import shuffle\n",
    "import glob\n",
    "import cv2\n",
    "\n",
    "path = os.getcwd()\n",
    "dataset_path = path + '\\\\data01-26-test2'\n",
    "model_path = os.path.join(dataset_path, \"model\")\n",
    "print(dataset_path)\n",
    "print(model_path)"
   ]
  },
  {
   "cell_type": "code",
   "execution_count": 2,
   "metadata": {},
   "outputs": [
    {
     "name": "stderr",
     "output_type": "stream",
     "text": [
      "Using TensorFlow backend.\n"
     ]
    }
   ],
   "source": [
    "import tensorflow as tf\n",
    "\n",
    "from tensorflow.keras import models\n",
    "from tensorflow.keras.layers import Conv2D, Flatten, Dense, Dropout, BatchNormalization\n",
    "\n",
    "from keras.optimizers import SGD\n",
    "from keras.preprocessing import image\n",
    "from keras.preprocessing.image import ImageDataGenerator\n",
    "from keras.callbacks import CSVLogger, ModelCheckpoint"
   ]
  },
  {
   "cell_type": "code",
   "execution_count": 3,
   "metadata": {},
   "outputs": [],
   "source": [
    "def img_to_arr(p):\n",
    "    with image.load_img(p) as img:\n",
    "        img = image.img_to_array(img)\n",
    "    return img\n",
    "\n",
    "# values computed from dataset sample.\n",
    "def normalize(img):\n",
    "    img[:,:,0] -= 100.58\n",
    "    img[:,:,0] /= 64.49\n",
    "\n",
    "    img[:,:,1] -= 99.71\n",
    "    img[:,:,1] /= 63.35\n",
    "\n",
    "    img[:,:,2] -= 98.82\n",
    "    img[:,:,2] /= 65.15\n",
    "    \n",
    "    return img"
   ]
  },
  {
   "cell_type": "code",
   "execution_count": 4,
   "metadata": {},
   "outputs": [],
   "source": [
    "# define generator that loops through the data\n",
    "def generator(df, batch_size, img_shape, should_shuffle):\n",
    "    # shuffle dataframe for each epoch\n",
    "    if should_shuffle:\n",
    "        df = shuffle(df)\n",
    "        \n",
    "    img_list = df['image_name']\n",
    "    steer = df['steer']\n",
    "    \n",
    "    # create empty batch\n",
    "    batch_img = np.zeros((batch_size,) + img_shape)\n",
    "    batch_label = np.zeros((batch_size, 1))\n",
    "    \n",
    "    index = 0\n",
    "    while True:\n",
    "        for i in range(batch_size):\n",
    "            img_name = img_list[index]\n",
    "            arr = img_to_arr(os.path.join(dataset_path, img_name))\n",
    "            \n",
    "            batch_img[i] = normalize(arr)\n",
    "            batch_label[i] = steer[index]\n",
    "            \n",
    "            index += 1\n",
    "            if index == len(img_list):\n",
    "                index = 0\n",
    "            \n",
    "        yield batch_img, batch_label"
   ]
  },
  {
   "cell_type": "code",
   "execution_count": 5,
   "metadata": {},
   "outputs": [],
   "source": [
    "df_train = pd.read_csv(\"./train_dataset.csv\")\n",
    "df_val = pd.read_csv(\"./val_dataset.csv\")"
   ]
  },
  {
   "cell_type": "code",
   "execution_count": 6,
   "metadata": {},
   "outputs": [
    {
     "name": "stdout",
     "output_type": "stream",
     "text": [
      "input_shape: (480, 640, 3), batch_size: 100, train_steps: 95, val_steps: 24\n"
     ]
    }
   ],
   "source": [
    "input_shape = img_to_arr(os.path.join(dataset_path, df_train['image_name'][0])).shape\n",
    "batch_size = 100\n",
    "train_steps = (df_train.shape[0] / batch_size) + 1\n",
    "val_steps = (df_val.shape[0] / batch_size) + 1\n",
    "\n",
    "print(\"input_shape: %s, batch_size: %d, train_steps: %d, val_steps: %d\" % \n",
    "      (input_shape, batch_size, train_steps, val_steps))"
   ]
  },
  {
   "cell_type": "code",
   "execution_count": 7,
   "metadata": {},
   "outputs": [],
   "source": [
    "train_batch = generator(df_train, batch_size, input_shape, True)\n",
    "val_batch = generator(df_val, batch_size, input_shape, False)"
   ]
  },
  {
   "cell_type": "code",
   "execution_count": 8,
   "metadata": {},
   "outputs": [
    {
     "name": "stdout",
     "output_type": "stream",
     "text": [
      "Model: \"sequential\"\n",
      "_________________________________________________________________\n",
      "Layer (type)                 Output Shape              Param #   \n",
      "=================================================================\n",
      "conv2d (Conv2D)              (None, 238, 318, 24)      1824      \n",
      "_________________________________________________________________\n",
      "batch_normalization (BatchNo (None, 238, 318, 24)      952       \n",
      "_________________________________________________________________\n",
      "conv2d_1 (Conv2D)            (None, 117, 157, 36)      21636     \n",
      "_________________________________________________________________\n",
      "batch_normalization_1 (Batch (None, 117, 157, 36)      468       \n",
      "_________________________________________________________________\n",
      "conv2d_2 (Conv2D)            (None, 57, 77, 48)        43248     \n",
      "_________________________________________________________________\n",
      "batch_normalization_2 (Batch (None, 57, 77, 48)        228       \n",
      "_________________________________________________________________\n",
      "conv2d_3 (Conv2D)            (None, 55, 75, 64)        27712     \n",
      "_________________________________________________________________\n",
      "batch_normalization_3 (Batch (None, 55, 75, 64)        220       \n",
      "_________________________________________________________________\n",
      "conv2d_4 (Conv2D)            (None, 53, 73, 64)        36928     \n",
      "_________________________________________________________________\n",
      "batch_normalization_4 (Batch (None, 53, 73, 64)        212       \n",
      "_________________________________________________________________\n",
      "flatten (Flatten)            (None, 247616)            0         \n",
      "_________________________________________________________________\n",
      "dense (Dense)                (None, 50)                12380850  \n",
      "_________________________________________________________________\n",
      "dropout (Dropout)            (None, 50)                0         \n",
      "_________________________________________________________________\n",
      "dense_1 (Dense)              (None, 10)                510       \n",
      "_________________________________________________________________\n",
      "dropout_1 (Dropout)          (None, 10)                0         \n",
      "_________________________________________________________________\n",
      "dense_2 (Dense)              (None, 1)                 11        \n",
      "=================================================================\n",
      "Total params: 12,514,799\n",
      "Trainable params: 12,513,759\n",
      "Non-trainable params: 1,040\n",
      "_________________________________________________________________\n"
     ]
    }
   ],
   "source": [
    "drop_out_rate = 0.3\n",
    "model = models.Sequential()\n",
    "\n",
    "# three Conv2D layers with 5 x 5 kernels, and 2 x 2 strides\n",
    "model.add(Conv2D(filters=24, kernel_size=(5, 5), strides=(2, 2),\n",
    "                      padding='valid', activation='relu', input_shape=input_shape))\n",
    "model.add((BatchNormalization(axis=1)))\n",
    "model.add(Conv2D(filters=36, kernel_size=(5, 5), strides=(2, 2),\n",
    "                      padding='valid', activation='relu'))\n",
    "model.add((BatchNormalization(axis=1)))\n",
    "model.add(Conv2D(filters=48, kernel_size=(5, 5), strides=(2, 2),\n",
    "                      padding='valid', activation='relu'))\n",
    "model.add((BatchNormalization(axis=1)))\n",
    "# two Conv2D layers with 3 x 3 kernels, and no strides\n",
    "model.add(Conv2D(filters=64, kernel_size=(3, 3),\n",
    "                      padding='valid', activation='relu'))\n",
    "model.add((BatchNormalization(axis=1)))\n",
    "model.add(Conv2D(filters=64, kernel_size=(3, 3),\n",
    "                      padding='valid', activation='relu'))\n",
    "model.add((BatchNormalization(axis=1)))\n",
    "\n",
    "# and data flows to three fully-connected layers\n",
    "model.add(Flatten())   # (None, 1152)\n",
    "# self.model.add(Dense(units=1164))\n",
    "# self.model.add(Dropout(rate=self.drop_out_rate))\n",
    "# self.model.add(Dense(units=100, activation='relu'))\n",
    "# self.model.add(Dropout(rate=self.drop_out_rate))\n",
    "# self.model.add((BatchNormalization()))\n",
    "model.add(Dense(units=50, activation='relu'))\n",
    "model.add(Dropout(rate=drop_out_rate))\n",
    "# self.model.add((BatchNormalization()))\n",
    "model.add(Dense(units=10, activation='relu'))\n",
    "model.add(Dropout(rate=drop_out_rate))\n",
    "# self.model.add((BatchNormalization()))\n",
    "model.add(Dense(units=1))\n",
    "\n",
    "# build the pilotNet model\n",
    "model.build(input_shape=input_shape)\n",
    "\n",
    "model.summary()\n",
    "    \n",
    "    "
   ]
  },
  {
   "cell_type": "code",
   "execution_count": 9,
   "metadata": {},
   "outputs": [],
   "source": [
    "model.compile(optimizer=tf.keras.optimizers.SGD(lr=1e-3, decay=1e-4, momentum=0.9, nesterov=True),\n",
    "                loss='mse',\n",
    "                metrics=['accuracy'])"
   ]
  },
  {
   "cell_type": "code",
   "execution_count": 10,
   "metadata": {},
   "outputs": [],
   "source": [
    "# define callbacks\n",
    "cur_model = 'PilotNet_v1'\n",
    "csv_logger = CSVLogger(os.path.join(\"./\", cur_model + '.log'))\n",
    "\n",
    "model_file_name= os.path.join(model_path, cur_model + '-{epoch:03d}-{val_loss:.5f}.h5')\n",
    "checkpoint = ModelCheckpoint(model_file_name, verbose=0, save_best_only=True)"
   ]
  },
  {
   "cell_type": "code",
   "execution_count": 11,
   "metadata": {},
   "outputs": [
    {
     "data": {
      "text/plain": [
       "generator"
      ]
     },
     "execution_count": 11,
     "metadata": {},
     "output_type": "execute_result"
    }
   ],
   "source": [
    "print(type(train_batch))"
   ]
  },
  {
   "cell_type": "code",
   "execution_count": null,
   "metadata": {},
   "outputs": [
    {
     "name": "stdout",
     "output_type": "stream",
     "text": [
      "WARNING:tensorflow:From <ipython-input-12-4cf42d7624dd>:4: Model.fit_generator (from tensorflow.python.keras.engine.training) is deprecated and will be removed in a future version.\n",
      "Instructions for updating:\n",
      "Please use Model.fit, which supports generators.\n",
      "WARNING:tensorflow:sample_weight modes were coerced from\n",
      "  ...\n",
      "    to  \n",
      "  ['...']\n",
      "WARNING:tensorflow:sample_weight modes were coerced from\n",
      "  ...\n",
      "    to  \n",
      "  ['...']\n",
      "Train for 95.88 steps, validate for 24.72 steps\n",
      "Epoch 1/20\n"
     ]
    }
   ],
   "source": [
    "model.fit_generator(train_batch, train_steps, epochs=20, verbose=1, \n",
    "                    callbacks=[csv_logger, checkpoint], \n",
    "                    validation_data=val_batch, \n",
    "                    validation_steps=val_steps)"
   ]
  },
  {
   "cell_type": "code",
   "execution_count": null,
   "metadata": {},
   "outputs": [],
   "source": []
  }
 ],
 "metadata": {
  "kernelspec": {
   "display_name": "Python 3",
   "language": "python",
   "name": "python3"
  },
  "language_info": {
   "codemirror_mode": {
    "name": "ipython",
    "version": 3
   },
   "file_extension": ".py",
   "mimetype": "text/x-python",
   "name": "python",
   "nbconvert_exporter": "python",
   "pygments_lexer": "ipython3",
   "version": "3.7.4"
  }
 },
 "nbformat": 4,
 "nbformat_minor": 4
}
